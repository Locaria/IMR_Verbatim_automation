{
 "cells": [
  {
   "cell_type": "code",
   "execution_count": 1,
   "metadata": {},
   "outputs": [
    {
     "name": "stdout",
     "output_type": "stream",
     "text": [
      "Authentication token: DQrKdTsPJBd1NPCelGPP1YL5HQ2xxG79R59501OJpE2nEGUNdqRiaxLrkYsSXlzVe\n"
     ]
    }
   ],
   "source": [
    "import requests\n",
    "from creds import *\n",
    "\n",
    "url = \"https://cloud.memsource.com/web/api2/v1/auth/login\"\n",
    "credentials = {\n",
    "    \"userName\": username,\n",
    "    \"password\": password\n",
    "}\n",
    "\n",
    "response = requests.post(url, json=credentials)\n",
    "\n",
    "if response.status_code == 200:\n",
    "    token_info = response.json()\n",
    "    access_token = token_info.get(\"token\")\n",
    "    print(\"Authentication token:\", access_token)\n",
    "else:\n",
    "    print(\"Failed to authenticate. Status code:\", response.status_code)\n",
    "    print(\"Response:\", response.text)"
   ]
  },
  {
   "cell_type": "code",
   "execution_count": 2,
   "metadata": {},
   "outputs": [],
   "source": [
    "project_id = \"5KSTDL4a5JHQ1qVnhfZVM3\"\n",
    "analyseUid = \"yUqAkl4L9nUP99U1Mw4qn5\"   \n",
    "jobUid = \"c0n47reWYGSE3iqw0cC0C1\"  \n",
    "analyseLanguagePartId = \"c0n47reWYGSE3iqw0cC0C1\""
   ]
  },
  {
   "cell_type": "code",
   "execution_count": 5,
   "metadata": {},
   "outputs": [],
   "source": [
    "get_project = f\"https://cloud.memsource.com/web/api2/v1/projects/{project_id}\"\n",
    "get_project_analyse_settings = f\"https://cloud.memsource.com/web/api2/v1/projects/{project_id}/analyseSettings\"\n",
    "get_project_jobs = f\"https://cloud.memsource.com/web/api2/v1/projects/{project_id}/jobs\"\n",
    "get_project_lqasettings = f\"https://cloud.memsource.com/web/api2/v1/projects/{project_id}/lqaSettings\"\n",
    "get_project_access_settings = f\"https://cloud.memsource.com/web/api2/v1/projects/{project_id}/accessSettings\"\n",
    "get_project_termbases = f\"https://cloud.memsource.com/web/api2/v1/projects/{project_id}/termBases\"\n",
    "get_project_transmemory = f\"https://cloud.memsource.com/web/api2/v1/projects/{project_id}/transMemories\"\n",
    "get__project_QA_settings = f\"https://cloud.memsource.com/web/api2/v2/projects/{project_id}/jobs/qualityAssurances/settings\"\n",
    "post_project_status = f\"https://cloud.memsource.com/web/api2/v1/projects/{project_id}/setStatus\"\n",
    "get_list_analyses_project = f\"https://cloud.memsource.com/web/api2/v3/projects/{project_id}/analyses\"\n",
    "get_job_analysis = f\"https://cloud.memsource.com/web/api2/v1/analyses/{analyseUid}/jobs/{jobUid}\"\n",
    "get_analysis = f\"https://cloud.memsource.com/web/api2/v3/analyses/{analyseUid}\"\n",
    "download_analysis= f\"https://cloud.memsource.com/web/api2/v1/analyses/{analyseUid}/download\"\n",
    "get_list_job_analyses = f\"https://cloud.memsource.com/web/api2/v1/analyses/{analyseUid}/analyseLanguageParts/{analyseLanguagePartId}/jobs\""
   ]
  },
  {
   "cell_type": "code",
   "execution_count": 8,
   "metadata": {},
   "outputs": [
    {
     "data": {
      "text/plain": [
       "{'pageNumber': 0,\n",
       " 'content': [{'netRateScheme': None,\n",
       "   'innerId': '1',\n",
       "   'importStatus': {'status': 'OK', 'errorMessage': None},\n",
       "   'type': 'PreAnalyse',\n",
       "   'uid': 'yUqAkl4L9nUP99U1Mw4qn5',\n",
       "   'createdBy': {'userName': 'amira.youssef_PM',\n",
       "    'uid': 'seh9BcQs0vm1Z4eoMGlMFc',\n",
       "    'id': '922171',\n",
       "    'firstName': 'Amira',\n",
       "    'lastName': 'Youssef',\n",
       "    'role': 'PROJECT_MANAGER',\n",
       "    'email': 'amira.youssef@locaria.com'},\n",
       "   'dateCreated': '2024-03-15T12:48:20+0000',\n",
       "   'id': '154510558',\n",
       "   'analyseLanguageParts': [{'jobs': [{'innerId': '1',\n",
       "       'uid': 'c0n47reWYGSE3iqw0cC0C1',\n",
       "       'filename': 'l0_option_selfserve53b230221_Q99_Q99_Real Answer Template Question_ipr.xml'}],\n",
       "     'id': '168489802',\n",
       "     'sourceLang': 'fr_fr',\n",
       "     'targetLang': 'en'}],\n",
       "   'pureWarnings': [],\n",
       "   'outdated': False,\n",
       "   'provider': None,\n",
       "   'name': 'Analysis #1'}],\n",
       " 'numberOfElements': 1,\n",
       " 'totalElements': 1,\n",
       " 'pageSize': 50,\n",
       " 'totalPages': 1}"
      ]
     },
     "execution_count": 8,
     "metadata": {},
     "output_type": "execute_result"
    }
   ],
   "source": [
    "headers = {\n",
    "    \"Authorization\": f\"ApiToken {access_token}\"\n",
    "}\n",
    "\n",
    "response = requests.get(get_list_analyses_project, headers=headers)\n",
    "\n",
    "if response.status_code == 200:\n",
    "    project_info = response.json()\n",
    "else:\n",
    "    # Handle errors (e.g., project not found, authentication error)\n",
    "    print(\"Failed to retrieve project information. Status code:\", response.status_code)\n",
    "    print(\"Response:\", response.text)\n",
    "\n",
    "response.json()"
   ]
  },
  {
   "cell_type": "code",
   "execution_count": 66,
   "metadata": {},
   "outputs": [
    {
     "name": "stdout",
     "output_type": "stream",
     "text": [
      "Analysis downloaded successfully as analysis.csv.\n"
     ]
    }
   ],
   "source": [
    "\n",
    "# Construct the full URL including the format query parameter\n",
    "download_url = f\"{download_analysis}?format=csv\" \n",
    "\n",
    "response = requests.get(download_url, headers=headers)\n",
    "\n",
    "# Check if the request was successful\n",
    "if response.status_code == 200:\n",
    "    # Save the downloaded file\n",
    "    with open(\"analysis.csv\", \"wb\") as file:\n",
    "        file.write(response.content)\n",
    "    print(\"Analysis downloaded successfully as analysis.csv.\")\n",
    "else:\n",
    "    print(f\"Failed to download analysis. Status code: {response.status_code}, Response: {response.text}\")\n",
    "\n"
   ]
  }
 ],
 "metadata": {
  "kernelspec": {
   "display_name": "Python 3",
   "language": "python",
   "name": "python3"
  },
  "language_info": {
   "codemirror_mode": {
    "name": "ipython",
    "version": 3
   },
   "file_extension": ".py",
   "mimetype": "text/x-python",
   "name": "python",
   "nbconvert_exporter": "python",
   "pygments_lexer": "ipython3",
   "version": "3.9.13"
  }
 },
 "nbformat": 4,
 "nbformat_minor": 2
}
